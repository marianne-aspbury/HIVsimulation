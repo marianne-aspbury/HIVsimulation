{
 "cells": [
  {
   "cell_type": "code",
   "execution_count": 1,
   "metadata": {},
   "outputs": [],
   "source": [
    "import msprime\n",
    "import tskit\n",
    "import itertools\n",
    "import random\n",
    "import math\n",
    "import numpy as np\n",
    "from IPython.display import display, SVG"
   ]
  },
  {
   "cell_type": "code",
   "execution_count": 37,
   "metadata": {},
   "outputs": [
    {
     "name": "stdout",
     "output_type": "stream",
     "text": [
      "{0: (139.09542237324197, 347.09542237324195), 1: (129.53698426364758, 317.5369842636476), 2: (137.98668607091233, 346.98668607091236), 3: (64.91474168448882, 263.91474168448883), 4: (74.89025171381903, 267.890251713819), 5: (46.33743586842799, 243.33743586842797), 6: (59.91766546332119, 255.91766546332119), 7: (135.65986662871487, 320.6598666287149), 8: (18.32888304906996, 219.32888304906996), 9: (84.571728672508, 289.571728672508)}\n"
     ]
    }
   ],
   "source": [
    "def truncate_ts_samples(ts, average_span, random_seed, min_span=5):\n",
    "    \"\"\"\n",
    "    Create a tree sequence that has sample nodes which have been truncated\n",
    "    so that they span only a small region of the genome. The length of the\n",
    "    truncated spans is given by a poisson distribution whose mean is average_span\n",
    "    but which cannot go below a fixed min_span, or above the sequence_length\n",
    "\n",
    "    Samples are truncated by removing the edges that connect them to the rest\n",
    "    of the tree.\n",
    "    \"\"\"\n",
    "    def keep_with_offset(keep, data, offset):\n",
    "       \"\"\"Copied from keep_intervals\"\"\"\n",
    "       # We need the astype here for 32 bit machines\n",
    "       lens = np.diff(offset).astype(np.int32)\n",
    "       return (data[np.repeat(keep, lens)],\n",
    "               np.concatenate([\n",
    "                   np.array([0], dtype=offset.dtype),\n",
    "                   np.cumsum(lens[keep], dtype=offset.dtype)]))\n",
    "    np.random.seed(random_seed)\n",
    "    # Make a list of (left,right) tuples giving the new limits of each sample\n",
    "    # Keyed by sample ID.\n",
    "    to_slice = {}\n",
    "    # for simplicity, we pick lengths from a poisson distribution of av 300 bp\n",
    "    for sample_id, span in zip(\n",
    "            ts.samples(), np.random.poisson(average_span, ts.num_samples)):\n",
    "        span = max(span, min_span)\n",
    "        span = min(span, ts.sequence_length)\n",
    "        start = np.random.uniform(0, ts.sequence_length-span)\n",
    "        to_slice[sample_id] = (start, start+span)\n",
    "\n",
    "    tables = ts.dump_tables()\n",
    "    tables.edges.clear()\n",
    "    for e in ts.tables.edges:\n",
    "        if e.child not in to_slice:\n",
    "            left, right = e.left, e.right\n",
    "        else:\n",
    "            if e.right <= to_slice[e.child][0] or e.left >= to_slice[e.child][1]:\n",
    "                continue  # this edge is outside the focal region\n",
    "            else:\n",
    "                left = max(e.left, to_slice[e.child][0])\n",
    "                right = min(e.right, to_slice[e.child][1])\n",
    "        tables.edges.add_row(left, right, e.parent, e.child)\n",
    "    # Remove mutations above isolated nodes\n",
    "    print(to_slice)\n",
    "    mutations = tables.mutations\n",
    "    keep_mutations = np.ones((mutations.num_rows,), dtype = bool)\n",
    "    positions = tables.sites.position[:]\n",
    "    for i, m in enumerate(mutations):\n",
    "        if m.node in to_slice:\n",
    "            if not to_slice[m.node][0] <= positions[m.site] < to_slice[m.node][1]:\n",
    "                keep_mutations[i] = False\n",
    "    new_ds, new_ds_offset = keep_with_offset(\n",
    "        keep_mutations, mutations.derived_state, mutations.derived_state_offset)\n",
    "    new_md, new_md_offset = keep_with_offset(\n",
    "        keep_mutations, mutations.metadata, mutations.metadata_offset)\n",
    "    mutations_map = np.append(np.cumsum(keep_mutations) - 1, [-1])\n",
    "    mutations_map = mutations_map.astype(mutations.parent.dtype)\n",
    "    # parent -1 always maps to parent -1\n",
    "    tables.mutations.set_columns(\n",
    "        site=mutations.site[keep_mutations],\n",
    "        node=mutations.node[keep_mutations],\n",
    "        derived_state=new_ds,\n",
    "        derived_state_offset=new_ds_offset,\n",
    "        parent=mutations_map[mutations.parent[keep_mutations]],\n",
    "        metadata=new_md,\n",
    "        metadata_offset=new_md_offset)\n",
    "    return tables.tree_sequence()\n",
    "\n",
    "ts = msprime.simulate(10, Ne=1e2, length=400, recombination_rate=1e-4, mutation_rate=2e-4, random_seed=1)\n",
    "truncated_ts = truncate_ts_samples(ts, average_span=200, random_seed=123)"
   ]
  },
  {
   "cell_type": "code",
   "execution_count": null,
   "metadata": {},
   "outputs": [],
   "source": []
  },
  {
   "cell_type": "code",
   "execution_count": 38,
   "metadata": {},
   "outputs": [
    {
     "name": "stdout",
     "output_type": "stream",
     "text": [
      "1000.0\n",
      "ggctataaagttactccgaaaccacattcagctggcatccgtccaggcatcgtatccgtgagatttccaggccaagtgcgtgtgagcggagacgtaggaatgcagttattgtgacgcccttcccgttctgttgagggatggcagtggcttccgagccggaaatacgccggtaacttacgtctctatactgaaagcgcctcggatccggcttgctcttcagcgcaggcattattggtgctacactccctcgtcacactgtagtaagctacggcgtgacgtcgtgtcacttccttccgtgagggcccattgaatgcgtgtgttccgcgaactacccatgagcaaactgccttgcgtatgtatagcaatggattgcgccgcttcaggttaaaggttaggtttgcggctaacgtattacttcttcccagcgctccatggctgagtctatgccaacacagttaagggggacgcacatttgggcagagggattaacggcggctctttttcgggccgcccgttctcgttttattcctgctatgcctttaagcaccgtgtgccggtttctcgggctgggaaatctcctgacctaaaaacggcgggtgttagtaactgatcggattattgctatactttggttgggctcctattatgaattgaaattagagttacacgcgacctcccgatgggttgagttgtaaatcataatagcacgcactcccaaactgtcctacatcaagggtacgcacaccacatgcaattggcagaccgtatcgatcaggcagcattccaagtgtacaagtcaaccattcgtgctgccgggggtagaagttatttacgaattccgggcgaattcgaccctcggaatgcttcaagtacgaaaggtcaggcacgaagcaagcccggctgtgtgacaatacacctctagtaagaatagcgtccacacgaatagatgctagggctcagtaaacatagcgaatcggtccaatgatacatacgggaaaga\n",
      "ggcgatgcagatatttccaaattaaactgaccccatattagtccaagcatcatatgctagatactccccggcccagtgcgtgtgagcggagacgtaggaaggcagttattgtgacgaccttcccgtactgatgggggatcccattggtcagcgagacagagatgcgccggtagcttgcggttctttcctgaaagagcctacgatccggcttgattttcagcgcaggcattattggtgctacactcccccgtcgtactttcctaggcttgggcatgacggggtgtcactcacgttctttggtccccatggattaggtgggttccacggactgcccatccactatctacatcccgtagggcgagccaaggattgcgcctctgcgcctttttgcgtaggtttgcgcctaacgtcgtttccgatctccgcgctcaatgcctctgcgtgcgacacctgctgtcggctggccgctccttatggcggcgtgattaacggagtcaatttatgaggccgtgcatactcgttttattcctacaatgcccttcacgagggtctgaacgttcatcgacctctttgctctccccacttaaaaacggtgggtgtcagtaactgatggtattattgcttcattgctgttaggctactatgatgaattgaaattacagttacatgcggcctccttaaggtatgagttgtagatcagaagcgcacgcactcccaaactgtgagccatcagcggttcccagatcacgtacactgaggataccgtctccaacaggcagcattctaggcggtttaatccaacaacagtgcagccgggggattatttcatatccgcattcgtggcgtatttgaccctcggaatgcttcaaggacgagtggtcaggcacgaagaaagcccagctgtgtgacaatagacgtctagggagaaaagcctccacacgtctataagggcggtatagtgaaacatagcgaatcggtccaatcatacatacgggaaaga\n",
      "ggtgatgcaactacttccaaattaaactgaccccatcagccgcgaaatattaggtcctagatactccccggcccagtgcgtgtgagcggagacgtagaaaggcagttattgtgacgaccttcccgtactgatgggggatcccattggtcagcgagacagagatgcgccggtagcttgtggttctttcctgaaagagcctacgatccggcttgattttcgccgacggcactattggagctacgctctcccgtcgtatagtagtatgctacggcgtgacggtgggtatctgccttccttgtgaccccatgggatgtatgttttccgcggactacccatcaaccacctaccacgcgtagtgcaatctatggtttgcttcgctacaacggggcgagcacattgccttataaaatcgattctgttctcagcgctctatgcgtctgcctactacaactcctgtcgggtagcagctcctcgcccaggggcgattcaccgcgtctccttgttaggccgcgcatactcgttacattcctactacccctttcacgagggtctgaacgttcatcggactttaaaatatactggcccaaaaacgggggttgtcagaaacagctcagtgtattgctacatcttgtctaggtctcctttatgaactgaagttagagttacacgcgacctctttaaggtatgagttgtagatcaaatgagcacacatttcctaactgtcctacaaccagggttcacacaccacgtgcactcaggataccgactccatcaggtagcattccaagtgtacaagtcaaccattcgtgctgccgggggtagaagttatttacgaattccgggcgaattcgaccctcggaatgcttcaagtacgaatggtcaggcacgaagcaagcccggctgtgtgacaatacacctctagtaagaatagcgtccacacgaatagatgctagggctcagtaaacatagcgaatcggtccaatgatacatacgggaaaga\n",
      "ggtgatgcaattccttggaaatcacagtgacctcatagccgtacaatcatcctatccgtgatagtccccggccaaatgcgtgtgagggtcaacgtacacactccgatatcgcgcccagcttcgcgtagtaatgagggatgggagtggccgccgagccagaaaagcgccggtaccttacgtctctatattaaaagcgcctcggatccgagtgacttcgggacgacggcatcagtggtgctacgctcctacgccgtatttgtctatgctagcgcgtatcggagtgtccctgacttcgtctaacaccgaggtaataactgggttccccgcactacctattatctacatacctcccgtaaggcgagcaaaggattgcgccgctgcggcttgttgtttagttttccgtataaaatagagcttcttcccagcgctcaatcccggaggacgtgccaagaccgttaagggggctgctcctttgggcagagcgattcacggcgtatctttatgaggacgcgaatactcgttttactcttactatgcctttcacaagggtctgaacgttcatcgacctctttgctctccccacttaaaaacggtgggtgtcagtaactgatgctcttattgctacatcgctgttagcctactattattaattcaatttagcgttattggcaacttccttatgggttgagttgtaaatcataagagcccacattccctaactgacctacaaccagggttcacacaccacgtacactcaggatatcgtcaccatcaggcagcattctagggggtttaacccaacaacaacattcatgtgatattaatgcattatcgtattcctgaggggttagcccttcgagaggcttcaagtacgaatggtcagttaccaaacatgttttattgcgtgccttttcaggcctcgcaagaaatcacaccagacggacgttgggtagggctcagtaaactcagcgaacccgtcgactggaacatactcgaaaga\n",
      "ggcgatgcagatattgccaaattaaactgaccccatattagtccaagcatcatatccgtgagactccccggcttcatgcgtattaaagaggtcgtagaattgccgatattgtaaccagctcccggtagtaatgagggatcccattggtcagctagacagagatgagccggtaccctgcggttctttactgaaagagcctacgatccgagttacttcgcgccgacggcactattggacctacgctcgcccgtcgtatattagtatgctacggcgtgacggcgtttcacttccttccgtgagggcccatggaataggtgtgttccgcccactacccacaagcaaactaccttccgttagtatagcataggattggttcgctacagccggaaaagtacttttgaggctcacgtcgtttccgttctccgcgctccatggctgagactaaaacaactgctttcgcttaaattctcctcaaccaggcgggactaactgtgtcaccttaagacgccgcgcatactccttttaatcctactctgcctagcccaatcgtccggaggattctcgcccggagagcttttctgacccaaaaacggctgttgtcagaaacagctcagtgtattgctataatttggttaggcaactatgatgaattgaaattggagttacacgcgacctccttaaggtatgagttgtagatcaaaagcgcatgcactcccaaactgtgggccatcagcggttcccagatcacgtacactgaggataccgtctccatcaggtagcattccaagtgtacaagtcaaccattcgtgctgccggggggagaagttatttacgaattccgggcgaattcgaccctcggaatgcttcaagtacgaatggtcaggcacgaagcaagcccggctgtgtgacaatacacccctagtaagaatagcgtccacacgaatagatgctagggctcagtaaacatagcgaatcggtccaatgatacatacgggaaaga\n",
      "ggttataaagttactccgtacccacactcagctcatatccgtacaatcatcctatccgtgatactccccggccaaatgcgtgtgagggtcaacgtacacattccgatatcgcgcccagcttcgcgtagtgacggggcatcccattggcctccgagccggaaaagcgccggtaccttgcgtttctttattgatagagccgagggtccgtgtttcttcgcgccgacggcatcattggagctacgctctcccgttgtatttgagtaagagagggcgagacggcgtaacactgctctccatgaggacccattgaataggggttttccgcgccccagctatgaacgacctaccttgcgtatggatagcaaagtattggttcgctacagccggaaacttaggtttgcgactaacgtcgtttccgttctcctcgctccatggctgagactaaaacaactgctgtcgggtagctgcccgtttgggaagagggattaacggcgtctccttgtgaggccgcgcatactcgttacttacctactatccaggtcagcactgtgtgcagctttctcgggctttaaaatatactggcccaaaaacggggggtgttagtaactgatcggattattgctataatttggttaggcaactatgatgaattgaaattagagttacacgcgacctccttaaggtatgagttgtagatcaaaagcgcatgcactcccaaactgtgggccatcagcggttcccagatcacgtacactgaggataccgactccatcaggtagcattccaagtgtacaagtcaaccattcgtgctgccgggggtagaagttatttacgaattccgggcgaattcgaccctcggaatgcttcaagtacgaatggtcaggcacgaagcaagcccggctgtgtgacaatacacctctagtaagaatagcgtccacacgaatagatgctagggctcagtaaacatagcgaatcggtccaatgatacatacgggaaaga\n",
      "gctgatgcaattacttccaagttaaactgaccccatcagccgcgaaagattagatcctagatactccccggcccaatgcgtgtgagcggagacgtaggagtgcagttattgtgaggaccttcccgtactgatgggggatcccattggtcagcgagacagagatgcgccggtactttgcggttctatactgaaagagcctaggatccgagttacttcacgccgaccgcacttttggagctacgctcctacgccgtatttgtctatgctacggcgtgacggcgtttcactgccttccgtgaggacccattgaatacgtgggttccacgccccagctatgaacgagctaccttgcgtatggagagctaaggattggttcgctacagccggaaaagtatttttgaggctcacgtcgtttccgttctccgcgctccatggctgagactaaaacaactgctttcgcttaaattctcctcaaccaggcgggagtaactgtgtcaccttaagacgccgcgcatactccttttaatcctactctgcgtagcccaatcgtctggaggattctcgccgggagagcttttctgacccaaaaacggctgttgtcagaaacagctcagtgtattgctacatcttgtctaggtctcctttatgaactgaagttagagttacacgcgacctctttaaggtatgagttgtagatcaaatgggcacactttccctaactgacctacaaccagggttcccacaccacgcgcaatgaggacaccgtctccttcacgtacgagtctagcgcggttaaacaacagtccgtgcagccgagggctttggtaatttccgcatgcctggcgaattcgcccctcggaatgctccaagtacgaagcctcaggcacgaagcatgtccggctgtgtgacaatacacctcgagcgagaaacgcctccagacgtctttaaggtagggctcagtaaaatgagcgaacccgtcgaatggaacatactggagaga\n",
      "ggttataaagttactccgtacccacactcagctcatatccgtacaatcatcctatccgtgatactccccggccaaatgcgtgtgagggtcaacgtacacattccgatatcgcgcccagcttcgcgtagtgacggggcatcccattggcctccgagccggaaaagcgccggtaccttgcgtttctttattgatagagccgagggtccgtgtttcttcgcgccgacggcatcattggagctacgctctcccgttgtatttgagtaagagagggcgagacggcgtaacactgctctccatgaggacccattgaataggggttttccgcgccccagctatgaacgacctaccttgcgtatggatagcaaagtattggttcgctacagccggaaacttaggtttgcgactaacgtcgtttccgttctcctcgctccatggctgagactaaaacaactgctgtcgggtagctgcccgtttgggaagagggattaacggcgtctccttgtgaggccgcgcatactcgttacttacctactatccaggtcagcactgtgtgcagctttctcgggctttaaaatatactggcccaaaaacggggggtgttagtaactgatcggattattgctataatttggttaggcaactatgatgaattgaaattagagttacacgcgacctccttaaggtatgagttgtagatcaaaagcgcatgcactcccaaactgtgggccatcagcggttcccagatcacgtacactgaggataccgactccatcaggtagcattccaagtgtacaagtcaaccattcgtgctgccgggggtagaagttatttacgaattccgggcgaattcgaccctcggaatgcttcaagtacgaatggtcaggcacgaagcaagcccggctgtgtgacaatacacctctagtaagaatagcgtccacacgaatagatgctagggctcagtaaacatagcgaatcggtccaatgatacatacgggaaaga\n"
     ]
    }
   ],
   "source": [
    "# Construct a tree sequence with integerized breakpoints\n",
    "length = 1000\n",
    "recomb_map = msprime.RecombinationMap.uniform_map(length, rate=0.05, num_loci=length)\n",
    "ts = msprime.simulate(8, mutation_rate=0.1, recombination_map=recomb_map, random_seed=1)\n",
    "\n",
    "null_char = b\"\\0\"\n",
    "states = np.array(['a','t','g','c'], dtype='|S1')\n",
    "\n",
    "tables = ts.dump_tables()\n",
    "tables.sites.clear()\n",
    "tables.mutations.clear()\n",
    "variable_sites = itertools.groupby(ts.sites(), lambda x: math.floor(x.position))\n",
    "variant_pos, sites_at_vpos = next(variable_sites)\n",
    "\n",
    "for pos in range(length):\n",
    "  ancestral_state = random.choice(states)\n",
    "  site_id = tables.sites.add_row(pos, ancestral_state)\n",
    "  if variant_pos == pos:\n",
    "      # Order mutations by time\n",
    "      mutations = []\n",
    "      for site in sites_at_vpos:\n",
    "        mutations.extend(site.mutations)\n",
    "      mutations.sort(key = lambda x: ts.node(x.node).time, reverse=True)\n",
    "      for m in mutations:\n",
    "        # Assign mutations with null parents & derived_states (will be filled in later)\n",
    "        tables.mutations.add_row(site_id, m.node, derived_state=null_char, parent=tskit.NULL)\n",
    "      try:\n",
    "        variant_pos, sites_at_vpos = next(variable_sites)\n",
    "      except StopIteration:\n",
    "        variant_pos, sites_at_vpos = -1, []\n",
    "# Assign parents\n",
    "tables.compute_mutation_parents()\n",
    "\n",
    "# Assign derived states (use an array of chars)\n",
    "ancestral_states = tables.sites.ancestral_state.view(dtype='|S1')\n",
    "mutation_derived_state = np.full(tables.mutations.num_rows, null_char, dtype='|S1')\n",
    "for i, m in enumerate(tables.mutations):\n",
    "    if m.parent == tskit.NULL:\n",
    "        prev_state = ancestral_states[m.site]\n",
    "    else:\n",
    "        prev_state = mutation_derived_state[m.parent]\n",
    "    # Pick a new state that is different from the old one\n",
    "    new_state = random.choice([s for s in states if s != prev_state])\n",
    "    mutation_derived_state[i] = new_state\n",
    "\n",
    "tables.mutations.derived_state = mutation_derived_state.view(tables.mutations.derived_state.dtype)\n",
    "\n",
    "finite_sites_ts = tables.tree_sequence()\n",
    "\n",
    "print(finite_sites_ts.sequence_length)\n",
    "\n",
    "# Try printing them out\n",
    "for h in finite_sites_ts.haplotypes():\n",
    "  print(h)"
   ]
  },
  {
   "cell_type": "code",
   "execution_count": 39,
   "metadata": {},
   "outputs": [
    {
     "name": "stdout",
     "output_type": "stream",
     "text": [
      "{0: (519.325692243476, 542.325692243476), 1: (523.3183457033163, 539.3183457033163), 2: (619.8097365046407, 642.8097365046407), 3: (832.4431581962338, 852.4431581962338), 4: (711.4151290131438, 729.4151290131438), 5: (599.4140639747088, 618.4140639747088), 6: (708.7169583013873, 727.7169583013873), 7: (318.1145301453805, 333.1145301453805)}\n"
     ]
    }
   ],
   "source": [
    "truncated_ts = truncate_ts_samples(finite_sites_ts, average_span=20, random_seed=123)"
   ]
  },
  {
   "cell_type": "code",
   "execution_count": 40,
   "metadata": {},
   "outputs": [],
   "source": [
    "for m in truncated_ts.mutations():\n",
    "    if m.parent == tskit.NULL:\n",
    "        prev_state = truncated_ts.site(m.site).ancestral_state\n",
    "    else:\n",
    "        prev_state = truncated_ts.mutation(m.parent).derived_state\n",
    "    if prev_state == m.derived_state:\n",
    "        print(m)"
   ]
  },
  {
   "cell_type": "code",
   "execution_count": 41,
   "metadata": {},
   "outputs": [
    {
     "name": "stdout",
     "output_type": "stream",
     "text": [
      "{'id': 37, 'position': 37.0, 'ancestral_state': 't', 'mutations': [{'id': 30, 'site': 37, 'node': 119, 'derived_state': 'a', 'parent': -1, 'metadata': b''}], 'metadata': b''}\n"
     ]
    }
   ],
   "source": [
    "print(truncated_ts.site(37))"
   ]
  },
  {
   "cell_type": "code",
   "execution_count": 42,
   "metadata": {},
   "outputs": [
    {
     "data": {
      "image/svg+xml": [
       "<svg baseProfile=\"full\" height=\"200\" version=\"1.1\" width=\"200\" xmlns=\"http://www.w3.org/2000/svg\" xmlns:ev=\"http://www.w3.org/2001/xml-events\" xmlns:xlink=\"http://www.w3.org/1999/xlink\"><defs/><g id=\"tree_9\"><g fill=\"none\" id=\"edges\" stroke=\"black\"/><g id=\"symbols\"><g class=\"nodes\"><circle cx=\"30.0\" cy=\"170.0\" id=\"node_9_0\" r=\"3\"/><circle cx=\"50.0\" cy=\"170.0\" id=\"node_9_1\" r=\"3\"/><circle cx=\"70.0\" cy=\"170.0\" id=\"node_9_2\" r=\"3\"/><circle cx=\"90.0\" cy=\"170.0\" id=\"node_9_3\" r=\"3\"/><circle cx=\"110.0\" cy=\"170.0\" id=\"node_9_4\" r=\"3\"/><circle cx=\"130.0\" cy=\"170.0\" id=\"node_9_5\" r=\"3\"/><circle cx=\"150.0\" cy=\"170.0\" id=\"node_9_6\" r=\"3\"/><circle cx=\"170.0\" cy=\"170.0\" id=\"node_9_7\" r=\"3\"/></g><g class=\"mutations\" fill=\"red\"/></g><g font-size=\"14\" id=\"labels\"><g class=\"nodes\"><g text-anchor=\"start\"/><g text-anchor=\"middle\"><text x=\"30.0\" y=\"190.0\">0</text><text x=\"50.0\" y=\"190.0\">1</text><text x=\"70.0\" y=\"190.0\">2</text><text x=\"90.0\" y=\"190.0\">3</text><text x=\"110.0\" y=\"190.0\">4</text><text x=\"130.0\" y=\"190.0\">5</text><text x=\"150.0\" y=\"190.0\">6</text><text x=\"170.0\" y=\"190.0\">7</text></g><g text-anchor=\"end\"/></g><g class=\"mutations\" font-style=\"italic\"><g text-anchor=\"start\"/><g text-anchor=\"end\"/></g></g></g></svg>"
      ],
      "text/plain": [
       "<IPython.core.display.SVG object>"
      ]
     },
     "metadata": {},
     "output_type": "display_data"
    }
   ],
   "source": [
    "display(SVG(truncated_ts.at(37).draw_svg()))\n"
   ]
  },
  {
   "cell_type": "code",
   "execution_count": 43,
   "metadata": {},
   "outputs": [
    {
     "name": "stdout",
     "output_type": "stream",
     "text": [
      "0  1  2  3  4  5  6  7\n",
      "\n"
     ]
    }
   ],
   "source": [
    "print(truncated_ts.at(37).draw_text())"
   ]
  },
  {
   "cell_type": "code",
   "execution_count": 44,
   "metadata": {},
   "outputs": [
    {
     "name": "stdout",
     "output_type": "stream",
     "text": [
      "----------------------------------------------------------------------------------------------------------------------------------------------------------------------------------------------------------------------------------------------------------------------------------------------------------------------------------------------------------------------------------------------------------------------------------------------------------------------------------------------------------------------------------------ttttattcctgctatgcctttaa-------------------------------------------------------------------------------------------------------------------------------------------------------------------------------------------------------------------------------------------------------------------------------------------------------------------------------------------------------------------------------------------------------------------------------------------------------------------------\n",
      "--------------------------------------------------------------------------------------------------------------------------------------------------------------------------------------------------------------------------------------------------------------------------------------------------------------------------------------------------------------------------------------------------------------------------------------------------------------------------------------------------------------------------------------------attcctacaatgccct----------------------------------------------------------------------------------------------------------------------------------------------------------------------------------------------------------------------------------------------------------------------------------------------------------------------------------------------------------------------------------------------------------------------------------------------------------------------------\n",
      "--------------------------------------------------------------------------------------------------------------------------------------------------------------------------------------------------------------------------------------------------------------------------------------------------------------------------------------------------------------------------------------------------------------------------------------------------------------------------------------------------------------------------------------------------------------------------------------------------------------------------------------------gctacatcttgtctaggtctcct---------------------------------------------------------------------------------------------------------------------------------------------------------------------------------------------------------------------------------------------------------------------------------------------------------------------------------------------------------------------\n",
      "-----------------------------------------------------------------------------------------------------------------------------------------------------------------------------------------------------------------------------------------------------------------------------------------------------------------------------------------------------------------------------------------------------------------------------------------------------------------------------------------------------------------------------------------------------------------------------------------------------------------------------------------------------------------------------------------------------------------------------------------------------------------------------------------------------------------------------------------------------------------gtattcctgaggggttagcc---------------------------------------------------------------------------------------------------------------------------------------------------\n",
      "----------------------------------------------------------------------------------------------------------------------------------------------------------------------------------------------------------------------------------------------------------------------------------------------------------------------------------------------------------------------------------------------------------------------------------------------------------------------------------------------------------------------------------------------------------------------------------------------------------------------------------------------------------------------------------------------------------------------------------------tcccaaactgtgggccat------------------------------------------------------------------------------------------------------------------------------------------------------------------------------------------------------------------------------------------------------------------------------\n",
      "------------------------------------------------------------------------------------------------------------------------------------------------------------------------------------------------------------------------------------------------------------------------------------------------------------------------------------------------------------------------------------------------------------------------------------------------------------------------------------------------------------------------------------------------------------------------------------------------------------------------tagtaactgatcggattat---------------------------------------------------------------------------------------------------------------------------------------------------------------------------------------------------------------------------------------------------------------------------------------------------------------------------------------------------------------------------------------------\n",
      "-------------------------------------------------------------------------------------------------------------------------------------------------------------------------------------------------------------------------------------------------------------------------------------------------------------------------------------------------------------------------------------------------------------------------------------------------------------------------------------------------------------------------------------------------------------------------------------------------------------------------------------------------------------------------------------------------------------------------------------ctttccctaactgacctac--------------------------------------------------------------------------------------------------------------------------------------------------------------------------------------------------------------------------------------------------------------------------------\n",
      "-------------------------------------------------------------------------------------------------------------------------------------------------------------------------------------------------------------------------------------------------------------------------------------------------------------------------------ttccgcgccccagct------------------------------------------------------------------------------------------------------------------------------------------------------------------------------------------------------------------------------------------------------------------------------------------------------------------------------------------------------------------------------------------------------------------------------------------------------------------------------------------------------------------------------------------------------------------------------------------------------------------------------------------------------------------------------------------\n"
     ]
    }
   ],
   "source": [
    "for h in truncated_ts.haplotypes():\n",
    "    print(h)"
   ]
  },
  {
   "cell_type": "code",
   "execution_count": 46,
   "metadata": {},
   "outputs": [
    {
     "name": "stdout",
     "output_type": "stream",
     "text": [
      "[[-1 -1 -1 ... -1 -1 -1]\n",
      " [-1 -1 -1 ... -1 -1 -1]\n",
      " [-1 -1 -1 ... -1 -1 -1]\n",
      " ...\n",
      " [-1 -1 -1 ... -1 -1 -1]\n",
      " [-1 -1 -1 ... -1 -1 -1]\n",
      " [-1 -1 -1 ... -1 -1 -1]]\n"
     ]
    }
   ],
   "source": [
    "print(truncated_ts.genotype_matrix())"
   ]
  },
  {
   "cell_type": "code",
   "execution_count": null,
   "metadata": {},
   "outputs": [],
   "source": [
    "print(truncated_ts.genotype_matrix().T)\n",
    "for v in truncated_ts.variants():\n",
    "    print(v)"
   ]
  },
  {
   "cell_type": "code",
   "execution_count": null,
   "metadata": {},
   "outputs": [],
   "source": [
    "import msprime\n",
    "\n",
    "ts = msprime.simulate(4, random_seed=1)\n",
    "tables = ts.dump_tables()\n",
    "tables.sites.add_row(ancestral_state = \"a\", position = 0.2)\n",
    "tables.mutations.add_row(derived_state = \"b\", site = 0, node = 4)\n",
    "tables.mutations.add_row(derived_state = \"a\", site = 0, node = 0)\n",
    "\n",
    "print(tables.tree_sequence().genotype_matrix())\n",
    "\n",
    "tables.edges.clear()\n",
    "for e in ts.edges():\n",
    "    tables.edges.add_row(left=0.5 if e.child==0 else e.left, right=e.right, parent=e.parent, child=e.child)\n",
    "\n",
    "print(tables.tree_sequence().draw_text())\n",
    "print(tables.tree_sequence().genotype_matrix())\n",
    "\n"
   ]
  },
  {
   "cell_type": "code",
   "execution_count": null,
   "metadata": {},
   "outputs": [],
   "source": []
  },
  {
   "cell_type": "code",
   "execution_count": null,
   "metadata": {},
   "outputs": [],
   "source": []
  }
 ],
 "metadata": {
  "kernelspec": {
   "display_name": "Python 3",
   "language": "python",
   "name": "python3"
  },
  "language_info": {
   "codemirror_mode": {
    "name": "ipython",
    "version": 3
   },
   "file_extension": ".py",
   "mimetype": "text/x-python",
   "name": "python",
   "nbconvert_exporter": "python",
   "pygments_lexer": "ipython3",
   "version": "3.7.2"
  }
 },
 "nbformat": 4,
 "nbformat_minor": 2
}
