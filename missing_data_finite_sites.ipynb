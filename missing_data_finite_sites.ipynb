{
 "cells": [
  {
   "cell_type": "code",
   "execution_count": 1,
   "metadata": {},
   "outputs": [],
   "source": [
    "import msprime\n",
    "import tskit\n",
    "import itertools\n",
    "import random\n",
    "import math\n",
    "import numpy as np\n",
    "from IPython.display import display, SVG"
   ]
  },
  {
   "cell_type": "code",
   "execution_count": 2,
   "metadata": {},
   "outputs": [
    {
     "name": "stdout",
     "output_type": "stream",
     "text": [
      "{0: (139.09542237324197, 347.09542237324195), 1: (129.53698426364758, 317.5369842636476), 2: (137.98668607091233, 346.98668607091236), 3: (64.91474168448882, 263.91474168448883), 4: (74.89025171381903, 267.890251713819), 5: (46.33743586842799, 243.33743586842797), 6: (59.91766546332119, 255.91766546332119), 7: (135.65986662871487, 320.6598666287149), 8: (18.32888304906996, 219.32888304906996), 9: (84.571728672508, 289.571728672508)}\n"
     ]
    }
   ],
   "source": [
    "def truncate_ts_samples(ts, average_span, random_seed, min_span=5):\n",
    "    \"\"\"\n",
    "    Create a tree sequence that has sample nodes which have been truncated\n",
    "    so that they span only a small region of the genome. The length of the\n",
    "    truncated spans is given by a poisson distribution whose mean is average_span\n",
    "    but which cannot go below a fixed min_span, or above the sequence_length\n",
    "\n",
    "    Samples are truncated by removing the edges that connect them to the rest\n",
    "    of the tree.\n",
    "    \"\"\"\n",
    "    def keep_with_offset(keep, data, offset):\n",
    "       \"\"\"Copied from keep_intervals\"\"\"\n",
    "       # We need the astype here for 32 bit machines\n",
    "       lens = np.diff(offset).astype(np.int32)\n",
    "       return (data[np.repeat(keep, lens)],\n",
    "               np.concatenate([\n",
    "                   np.array([0], dtype=offset.dtype),\n",
    "                   np.cumsum(lens[keep], dtype=offset.dtype)]))\n",
    "    np.random.seed(random_seed)\n",
    "    to_slice = {}\n",
    "    # for simplicity, we pick lengths from a poisson distribution of av 300 bp\n",
    "    span = np.random.poisson(average_span, ts.num_samples)\n",
    "    span = np.maximum(span, min_span)\n",
    "    span = np.minimum(span, ts.sequence_length)\n",
    "    start = np.random.uniform(0, ts.sequence_length-span)\n",
    "    to_slice = {id:(a,b) for id, a, b in zip(ts.samples(), start, start+span)}\n",
    "\n",
    "    tables = ts.dump_tables()\n",
    "    tables.edges.clear()\n",
    "    for e in ts.tables.edges:\n",
    "        if e.child not in to_slice:\n",
    "            left, right = e.left, e.right\n",
    "        else:\n",
    "            if e.right <= to_slice[e.child][0] or e.left >= to_slice[e.child][1]:\n",
    "                continue  # this edge is outside the focal region\n",
    "            else:\n",
    "                left = max(e.left, to_slice[e.child][0])\n",
    "                right = min(e.right, to_slice[e.child][1])\n",
    "        tables.edges.add_row(left, right, e.parent, e.child)\n",
    "    # Remove mutations above isolated nodes\n",
    "    print(to_slice)\n",
    "    mutations = tables.mutations\n",
    "    keep_mutations = np.ones((mutations.num_rows,), dtype = bool)\n",
    "    positions = tables.sites.position[:]\n",
    "    for i, m in enumerate(mutations):\n",
    "        if m.node in to_slice:\n",
    "            if not to_slice[m.node][0] <= positions[m.site] < to_slice[m.node][1]:\n",
    "                keep_mutations[i] = False\n",
    "    new_ds, new_ds_offset = keep_with_offset(\n",
    "        keep_mutations, mutations.derived_state, mutations.derived_state_offset)\n",
    "    new_md, new_md_offset = keep_with_offset(\n",
    "        keep_mutations, mutations.metadata, mutations.metadata_offset)\n",
    "    mutations_map = np.append(np.cumsum(keep_mutations) - 1, [-1])\n",
    "    mutations_map = mutations_map.astype(mutations.parent.dtype)\n",
    "    # parent -1 always maps to parent -1\n",
    "    tables.mutations.set_columns(\n",
    "        site=mutations.site[keep_mutations],\n",
    "        node=mutations.node[keep_mutations],\n",
    "        derived_state=new_ds,\n",
    "        derived_state_offset=new_ds_offset,\n",
    "        parent=mutations_map[mutations.parent[keep_mutations]],\n",
    "        metadata=new_md,\n",
    "        metadata_offset=new_md_offset)\n",
    "    return tables.tree_sequence()\n",
    "\n",
    "ts = msprime.simulate(10, Ne=1e2, length=400, recombination_rate=1e-4, mutation_rate=2e-4, random_seed=1)\n",
    "truncated_ts = truncate_ts_samples(ts, average_span=200, random_seed=123)"
   ]
  },
  {
   "cell_type": "code",
   "execution_count": null,
   "metadata": {},
   "outputs": [],
   "source": []
  },
  {
   "cell_type": "code",
   "execution_count": 3,
   "metadata": {},
   "outputs": [
    {
     "name": "stdout",
     "output_type": "stream",
     "text": [
      "100.0\n",
      "ctcggagaccgctgcacctgactaccaatcttggcgttattcacagaccgggtcctttatgctctgacccagatccgcctggagaatcgacgaccggcag\n",
      "ctctgagtgcgctggactgccaccttccacgcttctttgttcccagaccgggtcctttatgctctaaccccggtccgcctggagtgtcgacgaccggcag\n",
      "atcggagaccgctgcagccaaatcgtaaacttggcgctagtctaggaccgggtcctttatgctctaacccagatccgcccggagaatcgacgaccggcag\n",
      "atcggagaccgttgcacctgactgccaaacttggcgctagtctaggaccgggtcttttctgctctaacccagattctccttccgaatcgactaaatgcag\n",
      "ctctgagagcgctggaccccccttcccaagttggcgctagtctaagatcgggtgttgtctgggataacccagattctccttccgaatcaactacaggcag\n",
      "atcggagaccgttgcacctgactgccaaacgcttctttattcccagaccgggtcctttatgctctaacccagatccgcctgccgaatcgagtacaggcag\n",
      "atcggagaccgttgcacctgacagccaaacttggcgctagtctagtaccgggtcttttctgctccaaccctgatgggccattagaatgtacgacaggcag\n",
      "ctctgtgagcgctggaccccccccgtccacgcttctttattcccagaccgggtcgtttatgctctaacccagatccgcctgccgaatcgagtacaggcag\n"
     ]
    }
   ],
   "source": [
    "# Construct a tree sequence with integerized breakpoints\n",
    "length = 100\n",
    "recomb_map = msprime.RecombinationMap.uniform_map(length, rate=0.05, num_loci=length)\n",
    "ts = msprime.simulate(8, mutation_rate=0.1, recombination_map=recomb_map, random_seed=123)\n",
    "\n",
    "null_char = b\"\\0\"\n",
    "states = np.array(['a','t','g','c'], dtype='|S1')\n",
    "\n",
    "tables = ts.dump_tables()\n",
    "tables.sites.clear()\n",
    "tables.mutations.clear()\n",
    "variable_sites = itertools.groupby(ts.sites(), lambda x: math.floor(x.position))\n",
    "variant_pos, sites_at_vpos = next(variable_sites)\n",
    "\n",
    "for pos in range(length):\n",
    "  ancestral_state = random.choice(states)\n",
    "  site_id = tables.sites.add_row(pos, ancestral_state)\n",
    "  if variant_pos == pos:\n",
    "      # Order mutations by time\n",
    "      mutations = []\n",
    "      for site in sites_at_vpos:\n",
    "        mutations.extend(site.mutations)\n",
    "      mutations.sort(key = lambda x: ts.node(x.node).time, reverse=True)\n",
    "      for m in mutations:\n",
    "        # Assign mutations with null parents & derived_states (will be filled in later)\n",
    "        tables.mutations.add_row(site_id, m.node, derived_state=null_char, parent=tskit.NULL)\n",
    "      try:\n",
    "        variant_pos, sites_at_vpos = next(variable_sites)\n",
    "      except StopIteration:\n",
    "        variant_pos, sites_at_vpos = -1, []\n",
    "# Assign parents\n",
    "tables.compute_mutation_parents()\n",
    "\n",
    "# Assign derived states (use an array of chars)\n",
    "ancestral_states = tables.sites.ancestral_state.view(dtype='|S1')\n",
    "mutation_derived_state = np.full(tables.mutations.num_rows, null_char, dtype='|S1')\n",
    "for i, m in enumerate(tables.mutations):\n",
    "    if m.parent == tskit.NULL:\n",
    "        prev_state = ancestral_states[m.site]\n",
    "    else:\n",
    "        prev_state = mutation_derived_state[m.parent]\n",
    "    # Pick a new state that is different from the old one\n",
    "    new_state = random.choice([s for s in states if s != prev_state])\n",
    "    mutation_derived_state[i] = new_state\n",
    "\n",
    "tables.mutations.derived_state = mutation_derived_state.view(tables.mutations.derived_state.dtype)\n",
    "\n",
    "finite_sites_ts = tables.tree_sequence()\n",
    "\n",
    "print(finite_sites_ts.sequence_length)\n",
    "\n",
    "# Try printing them out\n",
    "for h in finite_sites_ts.haplotypes():\n",
    "  print(h)"
   ]
  },
  {
   "cell_type": "code",
   "execution_count": 4,
   "metadata": {},
   "outputs": [
    {
     "name": "stdout",
     "output_type": "stream",
     "text": [
      "{0: (15.456532432247482, 95.45653243224749), 1: (10.591694287633398, 98.5916942876334), 2: (0.7297719678027446, 98.72977196780275), 3: (10.461735033369393, 93.4617350333694), 4: (1.0553373830016717, 87.05533738300167), 5: (1.8441200300098726, 96.84412003000988), 6: (13.063961427755302, 99.0639614277553), 7: (6.513781432265774, 96.51378143226577)}\n"
     ]
    }
   ],
   "source": [
    "truncated_ts = truncate_ts_samples(finite_sites_ts, average_span=90, random_seed=1234)"
   ]
  },
  {
   "cell_type": "code",
   "execution_count": 5,
   "metadata": {},
   "outputs": [],
   "source": [
    "for m in truncated_ts.mutations():\n",
    "    if m.parent == tskit.NULL:\n",
    "        prev_state = truncated_ts.site(m.site).ancestral_state\n",
    "    else:\n",
    "        prev_state = truncated_ts.mutation(m.parent).derived_state\n",
    "    if prev_state == m.derived_state:\n",
    "        print(m)"
   ]
  },
  {
   "cell_type": "code",
   "execution_count": 27,
   "metadata": {},
   "outputs": [
    {
     "name": "stdout",
     "output_type": "stream",
     "text": [
      "----------------cctgactaccaatcttggcgttattcacagaccgggtcctttatgctctgacccagatccgcctggagaatcgacgaccg----\n",
      "-----------ctggactgccaccttccacgcttctttgttcccagaccgggtcctttatgctctaaccccggtccgcctggagtgtcgacgaccggca-\n",
      "-tcggagaccgctgcagccaaatcgtaaacttggcgctagtctaggaccgggtcctttatgctctaacccagatccgcccggagaatcgacgaccggca-\n",
      "-----------ttgcacctgactgccaaacttggcgctagtctaggaccgggtcttttctgctctaacccagattctccttccgaatcgactaa------\n",
      "--ctgagagcgctggaccccccttcccaagttggcgctagtctaagatcgggtgttgtctgggataacccagattctccttccgaatc------------\n",
      "--cggagaccgttgcacctgactgccaaacgcttctttattcccagaccgggtcctttatgctctaacccagatccgcctgccgaatcgagtacagg---\n",
      "--------------cacctgacagccaaacttggcgctagtctagtaccgggtcttttctgctccaaccctgatgggccattagaatgtacgacaggcag\n",
      "-------agcgctggaccccccccgtccacgcttctttattcccagaccgggtcgtttatgctctaacccagatccgcctgccgaatcgagtacagg---\n",
      "Variants with more than 2 non-null alleles\n",
      "{'site': {'id': 8, 'position': 8.0, 'ancestral_state': 'c', 'mutations': [{'id': 2, 'site': 8, 'node': 21, 'derived_state': 'a', 'parent': -1, 'metadata': b''}, {'id': 3, 'site': 8, 'node': 21, 'derived_state': 't', 'parent': 2, 'metadata': b''}, {'id': 4, 'site': 8, 'node': 21, 'derived_state': 'g', 'parent': 3, 'metadata': b''}], 'metadata': b''}, 'alleles': ('c', 'a', 't', 'g', None), 'has_missing_data': True, 'num_alleles': 4, 'genotypes': array([-1, -1,  0, -1,  3,  0, -1,  3], dtype=int8), 'position': 8.0, 'index': 8} \n",
      "\n",
      "{'site': {'id': 14, 'position': 14.0, 'ancestral_state': 'a', 'mutations': [{'id': 6, 'site': 14, 'node': 22, 'derived_state': 'c', 'parent': -1, 'metadata': b''}, {'id': 7, 'site': 14, 'node': 15, 'derived_state': 'c', 'parent': -1, 'metadata': b''}, {'id': 8, 'site': 14, 'node': 15, 'derived_state': 'g', 'parent': 7, 'metadata': b''}], 'metadata': b''}, 'alleles': ('a', 'c', 'g', None), 'has_missing_data': True, 'num_alleles': 3, 'genotypes': array([-1,  2,  1,  1,  2,  1,  1,  2], dtype=int8), 'position': 14.0, 'index': 14} \n",
      "\n",
      "{'site': {'id': 16, 'position': 16.0, 'ancestral_state': 't', 'mutations': [{'id': 9, 'site': 16, 'node': 32, 'derived_state': 'c', 'parent': -1, 'metadata': b''}, {'id': 10, 'site': 16, 'node': 15, 'derived_state': 'c', 'parent': -1, 'metadata': b''}, {'id': 11, 'site': 16, 'node': 2, 'derived_state': 'g', 'parent': 9, 'metadata': b''}], 'metadata': b''}, 'alleles': ('t', 'c', 'g'), 'has_missing_data': False, 'num_alleles': 3, 'genotypes': array([1, 1, 2, 1, 1, 1, 1, 1], dtype=int8), 'position': 16.0, 'index': 16} \n",
      "\n",
      "{'site': {'id': 18, 'position': 18.0, 'ancestral_state': 'a', 'mutations': [{'id': 14, 'site': 18, 'node': 32, 'derived_state': 'c', 'parent': -1, 'metadata': b''}, {'id': 15, 'site': 18, 'node': 22, 'derived_state': 't', 'parent': 14, 'metadata': b''}, {'id': 16, 'site': 18, 'node': 15, 'derived_state': 'c', 'parent': -1, 'metadata': b''}, {'id': 17, 'site': 18, 'node': 1, 'derived_state': 'g', 'parent': 16, 'metadata': b''}], 'metadata': b''}, 'alleles': ('a', 'c', 't', 'g'), 'has_missing_data': False, 'num_alleles': 4, 'genotypes': array([2, 3, 1, 2, 1, 2, 2, 1], dtype=int8), 'position': 18.0, 'index': 18} \n",
      "\n",
      "{'site': {'id': 19, 'position': 19.0, 'ancestral_state': 't', 'mutations': [{'id': 18, 'site': 19, 'node': 32, 'derived_state': 'g', 'parent': -1, 'metadata': b''}, {'id': 19, 'site': 19, 'node': 15, 'derived_state': 'a', 'parent': -1, 'metadata': b''}, {'id': 20, 'site': 19, 'node': 15, 'derived_state': 'c', 'parent': 19, 'metadata': b''}, {'id': 21, 'site': 19, 'node': 2, 'derived_state': 'a', 'parent': 18, 'metadata': b''}], 'metadata': b''}, 'alleles': ('t', 'g', 'a', 'c'), 'has_missing_data': False, 'num_alleles': 4, 'genotypes': array([1, 3, 2, 1, 3, 1, 1, 3], dtype=int8), 'position': 19.0, 'index': 19} \n",
      "\n",
      "{'site': {'id': 20, 'position': 20.0, 'ancestral_state': 'a', 'mutations': [{'id': 22, 'site': 20, 'node': 15, 'derived_state': 't', 'parent': -1, 'metadata': b''}, {'id': 23, 'site': 20, 'node': 15, 'derived_state': 'c', 'parent': 22, 'metadata': b''}], 'metadata': b''}, 'alleles': ('a', 't', 'c'), 'has_missing_data': False, 'num_alleles': 3, 'genotypes': array([0, 2, 0, 0, 2, 0, 0, 2], dtype=int8), 'position': 20.0, 'index': 20} \n",
      "\n",
      "{'site': {'id': 21, 'position': 21.0, 'ancestral_state': 't', 'mutations': [{'id': 24, 'site': 21, 'node': 32, 'derived_state': 'c', 'parent': -1, 'metadata': b''}, {'id': 25, 'site': 21, 'node': 15, 'derived_state': 'a', 'parent': -1, 'metadata': b''}, {'id': 26, 'site': 21, 'node': 7, 'derived_state': 'c', 'parent': 25, 'metadata': b''}, {'id': 27, 'site': 21, 'node': 2, 'derived_state': 'a', 'parent': 24, 'metadata': b''}], 'metadata': b''}, 'alleles': ('t', 'c', 'a'), 'has_missing_data': False, 'num_alleles': 3, 'genotypes': array([1, 2, 2, 1, 1, 1, 1, 1], dtype=int8), 'position': 21.0, 'index': 21} \n",
      "\n",
      "{'site': {'id': 22, 'position': 22.0, 'ancestral_state': 't', 'mutations': [{'id': 28, 'site': 22, 'node': 15, 'derived_state': 'c', 'parent': -1, 'metadata': b''}, {'id': 29, 'site': 22, 'node': 6, 'derived_state': 'a', 'parent': -1, 'metadata': b''}], 'metadata': b''}, 'alleles': ('t', 'c', 'a'), 'has_missing_data': False, 'num_alleles': 3, 'genotypes': array([0, 1, 0, 0, 0, 0, 2, 1], dtype=int8), 'position': 22.0, 'index': 22} \n",
      "\n",
      "{'site': {'id': 23, 'position': 23.0, 'ancestral_state': 'a', 'mutations': [{'id': 30, 'site': 23, 'node': 15, 'derived_state': 't', 'parent': -1, 'metadata': b''}, {'id': 31, 'site': 23, 'node': 15, 'derived_state': 'c', 'parent': 30, 'metadata': b''}, {'id': 32, 'site': 23, 'node': 10, 'derived_state': 'g', 'parent': -1, 'metadata': b''}, {'id': 33, 'site': 23, 'node': 2, 'derived_state': 'c', 'parent': -1, 'metadata': b''}, {'id': 34, 'site': 23, 'node': 4, 'derived_state': 't', 'parent': -1, 'metadata': b''}], 'metadata': b''}, 'alleles': ('a', 't', 'c', 'g'), 'has_missing_data': False, 'num_alleles': 4, 'genotypes': array([0, 2, 2, 3, 1, 3, 3, 2], dtype=int8), 'position': 23.0, 'index': 23} \n",
      "\n",
      "{'site': {'id': 24, 'position': 24.0, 'ancestral_state': 'c', 'mutations': [{'id': 35, 'site': 24, 'node': 34, 'derived_state': 'a', 'parent': -1, 'metadata': b''}, {'id': 36, 'site': 24, 'node': 34, 'derived_state': 'c', 'parent': 35, 'metadata': b''}, {'id': 37, 'site': 24, 'node': 15, 'derived_state': 't', 'parent': -1, 'metadata': b''}, {'id': 38, 'site': 24, 'node': 7, 'derived_state': 'g', 'parent': 37, 'metadata': b''}, {'id': 39, 'site': 24, 'node': 2, 'derived_state': 'g', 'parent': 36, 'metadata': b''}], 'metadata': b''}, 'alleles': ('c', 'a', 't', 'g'), 'has_missing_data': False, 'num_alleles': 4, 'genotypes': array([0, 2, 3, 0, 0, 0, 0, 3], dtype=int8), 'position': 24.0, 'index': 24} \n",
      "\n",
      "{'site': {'id': 25, 'position': 25.0, 'ancestral_state': 'a', 'mutations': [{'id': 40, 'site': 25, 'node': 34, 'derived_state': 'c', 'parent': -1, 'metadata': b''}, {'id': 41, 'site': 25, 'node': 15, 'derived_state': 't', 'parent': -1, 'metadata': b''}, {'id': 42, 'site': 25, 'node': 2, 'derived_state': 'a', 'parent': 40, 'metadata': b''}, {'id': 43, 'site': 25, 'node': 2, 'derived_state': 'c', 'parent': 42, 'metadata': b''}, {'id': 44, 'site': 25, 'node': 2, 'derived_state': 't', 'parent': 43, 'metadata': b''}], 'metadata': b''}, 'alleles': ('a', 'c', 't'), 'has_missing_data': False, 'num_alleles': 3, 'genotypes': array([1, 2, 2, 1, 1, 1, 1, 2], dtype=int8), 'position': 25.0, 'index': 25} \n",
      "\n",
      "{'site': {'id': 31, 'position': 31.0, 'ancestral_state': 'c', 'mutations': [{'id': 52, 'site': 31, 'node': 26, 'derived_state': 't', 'parent': -1, 'metadata': b''}, {'id': 53, 'site': 31, 'node': 15, 'derived_state': 'a', 'parent': -1, 'metadata': b''}, {'id': 54, 'site': 31, 'node': 15, 'derived_state': 'c', 'parent': 53, 'metadata': b''}], 'metadata': b''}, 'alleles': ('c', 't', 'a'), 'has_missing_data': False, 'num_alleles': 3, 'genotypes': array([1, 0, 1, 1, 1, 0, 1, 0], dtype=int8), 'position': 31.0, 'index': 31} \n",
      "\n",
      "{'site': {'id': 33, 'position': 33.0, 'ancestral_state': 'a', 'mutations': [{'id': 56, 'site': 33, 'node': 22, 'derived_state': 'g', 'parent': -1, 'metadata': b''}, {'id': 57, 'site': 33, 'node': 15, 'derived_state': 't', 'parent': -1, 'metadata': b''}], 'metadata': b''}, 'alleles': ('a', 'g', 't'), 'has_missing_data': False, 'num_alleles': 3, 'genotypes': array([1, 2, 1, 1, 1, 2, 1, 2], dtype=int8), 'position': 33.0, 'index': 33} \n",
      "\n",
      "{'site': {'id': 36, 'position': 36.0, 'ancestral_state': 'g', 'mutations': [{'id': 59, 'site': 36, 'node': 20, 'derived_state': 'a', 'parent': -1, 'metadata': b''}, {'id': 60, 'site': 36, 'node': 20, 'derived_state': 't', 'parent': 59, 'metadata': b''}, {'id': 61, 'site': 36, 'node': 20, 'derived_state': 'c', 'parent': 60, 'metadata': b''}, {'id': 62, 'site': 36, 'node': 17, 'derived_state': 't', 'parent': -1, 'metadata': b''}], 'metadata': b''}, 'alleles': ('g', 'a', 't', 'c'), 'has_missing_data': False, 'num_alleles': 4, 'genotypes': array([2, 2, 3, 3, 3, 2, 3, 2], dtype=int8), 'position': 36.0, 'index': 36} \n",
      "\n",
      "{'site': {'id': 42, 'position': 42.0, 'ancestral_state': 'c', 'mutations': [{'id': 65, 'site': 42, 'node': 20, 'derived_state': 't', 'parent': -1, 'metadata': b''}, {'id': 66, 'site': 42, 'node': 0, 'derived_state': 'a', 'parent': -1, 'metadata': b''}], 'metadata': b''}, 'alleles': ('c', 't', 'a'), 'has_missing_data': False, 'num_alleles': 3, 'genotypes': array([2, 0, 1, 1, 1, 0, 1, 0], dtype=int8), 'position': 42.0, 'index': 42} \n",
      "\n",
      "{'site': {'id': 53, 'position': 53.0, 'ancestral_state': 'c', 'mutations': [{'id': 71, 'site': 53, 'node': 4, 'derived_state': 'a', 'parent': -1, 'metadata': b''}, {'id': 72, 'site': 53, 'node': 4, 'derived_state': 'g', 'parent': 71, 'metadata': b''}], 'metadata': b''}, 'alleles': ('c', 'a', 'g'), 'has_missing_data': False, 'num_alleles': 3, 'genotypes': array([0, 0, 0, 0, 2, 0, 0, 0], dtype=int8), 'position': 53.0, 'index': 53} \n",
      "\n",
      "{'site': {'id': 54, 'position': 54.0, 'ancestral_state': 't', 'mutations': [{'id': 73, 'site': 54, 'node': 17, 'derived_state': 'c', 'parent': -1, 'metadata': b''}, {'id': 74, 'site': 54, 'node': 7, 'derived_state': 'g', 'parent': 73, 'metadata': b''}], 'metadata': b''}, 'alleles': ('t', 'c', 'g'), 'has_missing_data': False, 'num_alleles': 3, 'genotypes': array([1, 1, 1, 0, 0, 1, 0, 2], dtype=int8), 'position': 54.0, 'index': 54} \n",
      "\n",
      "{'site': {'id': 70, 'position': 70.0, 'ancestral_state': 'a', 'mutations': [{'id': 82, 'site': 70, 'node': 1, 'derived_state': 'c', 'parent': -1, 'metadata': b''}, {'id': 83, 'site': 70, 'node': 6, 'derived_state': 't', 'parent': -1, 'metadata': b''}], 'metadata': b''}, 'alleles': ('a', 'c', 't'), 'has_missing_data': False, 'num_alleles': 3, 'genotypes': array([0, 1, 0, 0, 0, 0, 2, 0], dtype=int8), 'position': 70.0, 'index': 70} \n",
      "\n",
      "{'site': {'id': 74, 'position': 74.0, 'ancestral_state': 't', 'mutations': [{'id': 85, 'site': 74, 'node': 17, 'derived_state': 'c', 'parent': -1, 'metadata': b''}, {'id': 86, 'site': 74, 'node': 6, 'derived_state': 'g', 'parent': -1, 'metadata': b''}], 'metadata': b''}, 'alleles': ('t', 'c', 'g'), 'has_missing_data': False, 'num_alleles': 3, 'genotypes': array([1, 1, 1, 0, 0, 1, 2, 1], dtype=int8), 'position': 74.0, 'index': 74} \n",
      "\n",
      "{'site': {'id': 79, 'position': 79.0, 'ancestral_state': 't', 'mutations': [{'id': 89, 'site': 79, 'node': 2, 'derived_state': 'c', 'parent': -1, 'metadata': b''}, {'id': 90, 'site': 79, 'node': 6, 'derived_state': 'a', 'parent': -1, 'metadata': b''}], 'metadata': b''}, 'alleles': ('t', 'c', 'a'), 'has_missing_data': False, 'num_alleles': 3, 'genotypes': array([0, 0, 1, 0, 0, 0, 2, 0], dtype=int8), 'position': 79.0, 'index': 79} \n",
      "\n",
      "{'site': {'id': 81, 'position': 81.0, 'ancestral_state': 'c', 'mutations': [{'id': 92, 'site': 81, 'node': 17, 'derived_state': 'g', 'parent': -1, 'metadata': b''}, {'id': 93, 'site': 81, 'node': 6, 'derived_state': 't', 'parent': -1, 'metadata': b''}], 'metadata': b''}, 'alleles': ('c', 'g', 't'), 'has_missing_data': False, 'num_alleles': 3, 'genotypes': array([1, 1, 1, 0, 0, 0, 2, 0], dtype=int8), 'position': 81.0, 'index': 81} \n",
      "\n",
      "{'site': {'id': 82, 'position': 82.0, 'ancestral_state': 'a', 'mutations': [{'id': 94, 'site': 82, 'node': 20, 'derived_state': 't', 'parent': -1, 'metadata': b''}, {'id': 95, 'site': 82, 'node': 20, 'derived_state': 'c', 'parent': 94, 'metadata': b''}], 'metadata': b''}, 'alleles': ('a', 't', 'c'), 'has_missing_data': False, 'num_alleles': 3, 'genotypes': array([0, 0, 0, 2, 2, 2, 0, 2], dtype=int8), 'position': 82.0, 'index': 82} \n",
      "\n"
     ]
    }
   ],
   "source": [
    "for h in truncated_ts.haplotypes():\n",
    "    print(h)\n",
    "\n",
    "non_biallelic = []\n",
    "print(\"Variants with more than 2 non-null alleles\")\n",
    "for v in truncated_ts.variants():\n",
    "    if len(set(v.alleles) - set([None]))>2:\n",
    "        print(v, \"\\n\")\n",
    "        non_biallelic.append(v.position)"
   ]
  },
  {
   "cell_type": "code",
   "execution_count": 28,
   "metadata": {},
   "outputs": [],
   "source": [
    "import tsinfer"
   ]
  },
  {
   "cell_type": "code",
   "execution_count": 29,
   "metadata": {},
   "outputs": [],
   "source": [
    "sample_data = tsinfer.SampleData.from_tree_sequence(truncated_ts)"
   ]
  },
  {
   "cell_type": "code",
   "execution_count": 30,
   "metadata": {},
   "outputs": [
    {
     "data": {
      "image/svg+xml": [
       "<svg baseProfile=\"full\" height=\"200\" version=\"1.1\" width=\"200\" xmlns=\"http://www.w3.org/2000/svg\" xmlns:ev=\"http://www.w3.org/2001/xml-events\" xmlns:xlink=\"http://www.w3.org/1999/xlink\"><defs/><g id=\"tree_18\"><g fill=\"none\" id=\"edges\" stroke=\"black\"><path d=\"M 45.0 163.08783977181582 V 30.0 H 83.125\" id=\"edge_18_15\"/><path d=\"M 30.0 170.0 V 163.08783977181582 H 45.0\" id=\"edge_18_1\"/><path d=\"M 60.0 166.42833536805892 V 163.08783977181582 H 45.0\" id=\"edge_18_11\"/><path d=\"M 50.0 170.0 V 166.42833536805892 H 60.0\" id=\"edge_18_4\"/><path d=\"M 70.0 170.0 V 166.42833536805892 H 60.0\" id=\"edge_18_7\"/><path d=\"M 121.25 129.38291202927513 V 30.0 H 83.125\" id=\"edge_18_32\"/><path d=\"M 90.0 170.0 V 129.38291202927513 H 121.25\" id=\"edge_18_2\"/><path d=\"M 152.5 152.54026155799193 V 129.38291202927513 H 121.25\" id=\"edge_18_22\"/><path d=\"M 135.0 166.6788300495016 V 152.54026155799193 H 152.5\" id=\"edge_18_10\"/><path d=\"M 120.0 168.11917533621778 V 166.6788300495016 H 135.0\" id=\"edge_18_8\"/><path d=\"M 110.0 170.0 V 168.11917533621778 H 120.0\" id=\"edge_18_5\"/><path d=\"M 130.0 170.0 V 168.11917533621778 H 120.0\" id=\"edge_18_3\"/><path d=\"M 150.0 170.0 V 166.6788300495016 H 135.0\" id=\"edge_18_6\"/><path d=\"M 170.0 170.0 V 152.54026155799193 H 152.5\" id=\"edge_18_0\"/></g><g id=\"symbols\"><g class=\"nodes\"><circle cx=\"83.125\" cy=\"30.0\" id=\"node_18_42\" r=\"3\"/><circle cx=\"45.0\" cy=\"163.08783977181582\" id=\"node_18_15\" r=\"3\"/><circle cx=\"30.0\" cy=\"170.0\" id=\"node_18_1\" r=\"3\"/><circle cx=\"60.0\" cy=\"166.42833536805892\" id=\"node_18_11\" r=\"3\"/><circle cx=\"50.0\" cy=\"170.0\" id=\"node_18_4\" r=\"3\"/><circle cx=\"70.0\" cy=\"170.0\" id=\"node_18_7\" r=\"3\"/><circle cx=\"121.25\" cy=\"129.38291202927513\" id=\"node_18_32\" r=\"3\"/><circle cx=\"90.0\" cy=\"170.0\" id=\"node_18_2\" r=\"3\"/><circle cx=\"152.5\" cy=\"152.54026155799193\" id=\"node_18_22\" r=\"3\"/><circle cx=\"135.0\" cy=\"166.6788300495016\" id=\"node_18_10\" r=\"3\"/><circle cx=\"120.0\" cy=\"168.11917533621778\" id=\"node_18_8\" r=\"3\"/><circle cx=\"110.0\" cy=\"170.0\" id=\"node_18_5\" r=\"3\"/><circle cx=\"130.0\" cy=\"170.0\" id=\"node_18_3\" r=\"3\"/><circle cx=\"150.0\" cy=\"170.0\" id=\"node_18_6\" r=\"3\"/><circle cx=\"170.0\" cy=\"170.0\" id=\"node_18_0\" r=\"3\"/></g><g class=\"mutations\" fill=\"red\"><rect height=\"6\" transform=\"translate(-3, -3)\" width=\"6\" x=\"45.0\" y=\"56.61756795436317\"/><rect height=\"6\" transform=\"translate(-3, -3)\" width=\"6\" x=\"45.0\" y=\"83.23513590872633\"/><rect height=\"6\" transform=\"translate(-3, -3)\" width=\"6\" x=\"45.0\" y=\"109.8527038630895\"/><rect height=\"6\" transform=\"translate(-3, -3)\" width=\"6\" x=\"45.0\" y=\"136.47027181745267\"/><rect height=\"6\" transform=\"translate(-3, -3)\" width=\"6\" x=\"30.0\" y=\"166.5439198859079\"/><rect height=\"6\" transform=\"translate(-3, -3)\" width=\"6\" x=\"60.0\" y=\"164.75808756993737\"/><rect height=\"6\" transform=\"translate(-3, -3)\" width=\"6\" x=\"121.25\" y=\"49.876582405855025\"/><rect height=\"6\" transform=\"translate(-3, -3)\" width=\"6\" x=\"121.25\" y=\"69.75316481171005\"/><rect height=\"6\" transform=\"translate(-3, -3)\" width=\"6\" x=\"121.25\" y=\"89.62974721756507\"/><rect height=\"6\" transform=\"translate(-3, -3)\" width=\"6\" x=\"121.25\" y=\"109.5063296234201\"/><rect height=\"6\" transform=\"translate(-3, -3)\" width=\"6\" x=\"90.0\" y=\"142.9219413528501\"/><rect height=\"6\" transform=\"translate(-3, -3)\" width=\"6\" x=\"90.0\" y=\"156.46097067642506\"/><rect height=\"6\" transform=\"translate(-3, -3)\" width=\"6\" x=\"152.5\" y=\"140.96158679363353\"/></g></g><g font-size=\"14\" id=\"labels\"><g class=\"nodes\"><g text-anchor=\"start\"><text x=\"65.0\" y=\"161.42833536805892\">11</text><text x=\"126.25\" y=\"124.38291202927513\">32</text><text x=\"157.5\" y=\"147.54026155799193\">22</text></g><g text-anchor=\"middle\"><text x=\"83.125\" y=\"25.0\">42</text><text x=\"30.0\" y=\"190.0\">1</text><text x=\"50.0\" y=\"190.0\">4</text><text x=\"70.0\" y=\"190.0\">7</text><text x=\"90.0\" y=\"190.0\">2</text><text x=\"110.0\" y=\"190.0\">5</text><text x=\"130.0\" y=\"190.0\">3</text><text x=\"150.0\" y=\"190.0\">6</text><text x=\"170.0\" y=\"190.0\">0</text></g><g text-anchor=\"end\"><text x=\"40.0\" y=\"158.08783977181582\">15</text><text x=\"130.0\" y=\"161.6788300495016\">10</text><text x=\"115.0\" y=\"163.11917533621778\">8</text></g></g><g class=\"mutations\" font-style=\"italic\"><g text-anchor=\"start\"><text x=\"65.0\" y=\"168.75808756993737\">13</text><text x=\"126.25\" y=\"53.876582405855025\">18</text><text x=\"126.25\" y=\"73.75316481171005\">14</text><text x=\"126.25\" y=\"93.62974721756507\">12</text><text x=\"126.25\" y=\"113.5063296234201\">9</text><text x=\"157.5\" y=\"144.96158679363353\">15</text></g><g text-anchor=\"end\"><text x=\"40.0\" y=\"60.61756795436317\">20</text><text x=\"40.0\" y=\"87.23513590872633\">19</text><text x=\"40.0\" y=\"113.8527038630895\">16</text><text x=\"40.0\" y=\"140.47027181745267\">10</text><text x=\"25.0\" y=\"170.5439198859079\">17</text><text x=\"85.0\" y=\"146.9219413528501\">21</text><text x=\"85.0\" y=\"160.46097067642506\">11</text></g></g></g></g></svg>"
      ],
      "text/plain": [
       "<IPython.core.display.SVG object>"
      ]
     },
     "metadata": {},
     "output_type": "display_data"
    }
   ],
   "source": [
    "display(SVG(truncated_ts.at(16).draw_svg()))"
   ]
  },
  {
   "cell_type": "code",
   "execution_count": 35,
   "metadata": {},
   "outputs": [
    {
     "name": "stdout",
     "output_type": "stream",
     "text": [
      "Site at position 8.0: Inference: 1\n",
      "Site at position 14.0: Inference: 0\n",
      "Site at position 16.0: Inference: 0\n",
      "Site at position 18.0: Inference: 0\n",
      "Site at position 19.0: Inference: 0\n",
      "Site at position 20.0: Inference: 1\n",
      "Site at position 21.0: Inference: 0\n",
      "Site at position 22.0: Inference: 1\n",
      "Site at position 23.0: Inference: 1\n",
      "Site at position 24.0: Inference: 1\n",
      "Site at position 25.0: Inference: 0\n",
      "Site at position 31.0: Inference: 1\n",
      "Site at position 33.0: Inference: 0\n",
      "Site at position 36.0: Inference: 0\n",
      "Site at position 42.0: Inference: 1\n",
      "Site at position 53.0: Inference: 0\n",
      "Site at position 54.0: Inference: 1\n",
      "Site at position 70.0: Inference: 1\n",
      "Site at position 74.0: Inference: 1\n",
      "Site at position 79.0: Inference: 1\n",
      "Site at position 81.0: Inference: 1\n",
      "Site at position 82.0: Inference: 1\n"
     ]
    }
   ],
   "source": [
    "# which sites are set for inference\n",
    "non_biallelic_indexes = np.isin(sample_data.sites_position, np.array(non_biallelic))\n",
    "for i in np.where(non_biallelic_indexes)[0]:\n",
    "    print(\"Site at position {}: Inference: {}\".format(\n",
    "        sample_data.sites_position[i], sample_data.sites_inference[i]))"
   ]
  },
  {
   "cell_type": "code",
   "execution_count": 26,
   "metadata": {},
   "outputs": [
    {
     "data": {
      "text/plain": [
       "array({8.0, 14.0, 16.0, 18.0, 19.0, 20.0, 21.0, 22.0, 23.0, 24.0, 25.0, 31.0, 33.0, 36.0, 42.0, 53.0, 54.0, 70.0, 74.0, 79.0, 81.0, 82.0},\n",
       "      dtype=object)"
      ]
     },
     "execution_count": 26,
     "metadata": {},
     "output_type": "execute_result"
    }
   ],
   "source": [
    "np.array(non_biallelic)"
   ]
  },
  {
   "cell_type": "code",
   "execution_count": 11,
   "metadata": {},
   "outputs": [
    {
     "ename": "IndexError",
     "evalue": "tuple index out of range",
     "output_type": "error",
     "traceback": [
      "\u001b[0;31m---------------------------------------------------------------------------\u001b[0m",
      "\u001b[0;31mIndexError\u001b[0m                                Traceback (most recent call last)",
      "\u001b[0;32m<ipython-input-11-2faf47ae6813>\u001b[0m in \u001b[0;36m<module>\u001b[0;34m\u001b[0m\n\u001b[0;32m----> 1\u001b[0;31m \u001b[0mtsinfer\u001b[0m\u001b[0;34m.\u001b[0m\u001b[0minfer\u001b[0m\u001b[0;34m(\u001b[0m\u001b[0msample_data\u001b[0m\u001b[0;34m,\u001b[0m \u001b[0mengine\u001b[0m\u001b[0;34m=\u001b[0m\u001b[0;34m\"P\"\u001b[0m\u001b[0;34m)\u001b[0m\u001b[0;34m\u001b[0m\u001b[0;34m\u001b[0m\u001b[0m\n\u001b[0m",
      "\u001b[0;32m~/Documents/Research/BDI/tsinfer-hyanwong/tsinfer/inference.py\u001b[0m in \u001b[0;36minfer\u001b[0;34m(sample_data, num_threads, path_compression, simplify, engine, progress_monitor)\u001b[0m\n\u001b[1;32m    173\u001b[0m         \u001b[0msample_data\u001b[0m\u001b[0;34m,\u001b[0m \u001b[0mancestors_ts\u001b[0m\u001b[0;34m,\u001b[0m \u001b[0mengine\u001b[0m\u001b[0;34m=\u001b[0m\u001b[0mengine\u001b[0m\u001b[0;34m,\u001b[0m \u001b[0mnum_threads\u001b[0m\u001b[0;34m=\u001b[0m\u001b[0mnum_threads\u001b[0m\u001b[0;34m,\u001b[0m\u001b[0;34m\u001b[0m\u001b[0;34m\u001b[0m\u001b[0m\n\u001b[1;32m    174\u001b[0m         \u001b[0mpath_compression\u001b[0m\u001b[0;34m=\u001b[0m\u001b[0mpath_compression\u001b[0m\u001b[0;34m,\u001b[0m \u001b[0msimplify\u001b[0m\u001b[0;34m=\u001b[0m\u001b[0msimplify\u001b[0m\u001b[0;34m,\u001b[0m\u001b[0;34m\u001b[0m\u001b[0;34m\u001b[0m\u001b[0m\n\u001b[0;32m--> 175\u001b[0;31m         progress_monitor=progress_monitor)\n\u001b[0m\u001b[1;32m    176\u001b[0m     \u001b[0;32mreturn\u001b[0m \u001b[0minferred_ts\u001b[0m\u001b[0;34m\u001b[0m\u001b[0;34m\u001b[0m\u001b[0m\n\u001b[1;32m    177\u001b[0m \u001b[0;34m\u001b[0m\u001b[0m\n",
      "\u001b[0;32m~/Documents/Research/BDI/tsinfer-hyanwong/tsinfer/inference.py\u001b[0m in \u001b[0;36mmatch_samples\u001b[0;34m(sample_data, ancestors_ts, num_threads, path_compression, simplify, extended_checks, stabilise_node_ordering, engine, progress_monitor)\u001b[0m\n\u001b[1;32m    322\u001b[0m     \u001b[0mmanager\u001b[0m\u001b[0;34m.\u001b[0m\u001b[0mmatch_samples\u001b[0m\u001b[0;34m(\u001b[0m\u001b[0;34m)\u001b[0m\u001b[0;34m\u001b[0m\u001b[0;34m\u001b[0m\u001b[0m\n\u001b[1;32m    323\u001b[0m     ts = manager.finalise(\n\u001b[0;32m--> 324\u001b[0;31m         simplify=simplify, stabilise_node_ordering=stabilise_node_ordering)\n\u001b[0m\u001b[1;32m    325\u001b[0m     \u001b[0;32mreturn\u001b[0m \u001b[0mts\u001b[0m\u001b[0;34m\u001b[0m\u001b[0;34m\u001b[0m\u001b[0m\n\u001b[1;32m    326\u001b[0m \u001b[0;34m\u001b[0m\u001b[0m\n",
      "\u001b[0;32m~/Documents/Research/BDI/tsinfer-hyanwong/tsinfer/inference.py\u001b[0m in \u001b[0;36mfinalise\u001b[0;34m(self, simplify, stabilise_node_ordering)\u001b[0m\n\u001b[1;32m   1172\u001b[0m     \u001b[0;32mdef\u001b[0m \u001b[0mfinalise\u001b[0m\u001b[0;34m(\u001b[0m\u001b[0mself\u001b[0m\u001b[0;34m,\u001b[0m \u001b[0msimplify\u001b[0m\u001b[0;34m=\u001b[0m\u001b[0;32mTrue\u001b[0m\u001b[0;34m,\u001b[0m \u001b[0mstabilise_node_ordering\u001b[0m\u001b[0;34m=\u001b[0m\u001b[0;32mFalse\u001b[0m\u001b[0;34m)\u001b[0m\u001b[0;34m:\u001b[0m\u001b[0;34m\u001b[0m\u001b[0;34m\u001b[0m\u001b[0m\n\u001b[1;32m   1173\u001b[0m         \u001b[0mlogger\u001b[0m\u001b[0;34m.\u001b[0m\u001b[0minfo\u001b[0m\u001b[0;34m(\u001b[0m\u001b[0;34m\"Finalising tree sequence\"\u001b[0m\u001b[0;34m)\u001b[0m\u001b[0;34m\u001b[0m\u001b[0;34m\u001b[0m\u001b[0m\n\u001b[0;32m-> 1174\u001b[0;31m         \u001b[0mts\u001b[0m \u001b[0;34m=\u001b[0m \u001b[0mself\u001b[0m\u001b[0;34m.\u001b[0m\u001b[0mget_samples_tree_sequence\u001b[0m\u001b[0;34m(\u001b[0m\u001b[0;34m)\u001b[0m\u001b[0;34m\u001b[0m\u001b[0;34m\u001b[0m\u001b[0m\n\u001b[0m\u001b[1;32m   1175\u001b[0m         \u001b[0;32mif\u001b[0m \u001b[0msimplify\u001b[0m\u001b[0;34m:\u001b[0m\u001b[0;34m\u001b[0m\u001b[0;34m\u001b[0m\u001b[0m\n\u001b[1;32m   1176\u001b[0m             logger.info(\n",
      "\u001b[0;32m~/Documents/Research/BDI/tsinfer-hyanwong/tsinfer/inference.py\u001b[0m in \u001b[0;36mget_samples_tree_sequence\u001b[0;34m(self)\u001b[0m\n\u001b[1;32m    904\u001b[0m         \u001b[0mtables\u001b[0m\u001b[0;34m.\u001b[0m\u001b[0mmutations\u001b[0m\u001b[0;34m.\u001b[0m\u001b[0mclear\u001b[0m\u001b[0;34m(\u001b[0m\u001b[0;34m)\u001b[0m\u001b[0;34m\u001b[0m\u001b[0;34m\u001b[0m\u001b[0m\n\u001b[1;32m    905\u001b[0m         \u001b[0mtables\u001b[0m\u001b[0;34m.\u001b[0m\u001b[0msort\u001b[0m\u001b[0;34m(\u001b[0m\u001b[0;34m)\u001b[0m\u001b[0;34m\u001b[0m\u001b[0;34m\u001b[0m\u001b[0m\n\u001b[0;32m--> 906\u001b[0;31m         \u001b[0mself\u001b[0m\u001b[0;34m.\u001b[0m\u001b[0minsert_sites\u001b[0m\u001b[0;34m(\u001b[0m\u001b[0mtables\u001b[0m\u001b[0;34m)\u001b[0m\u001b[0;34m\u001b[0m\u001b[0;34m\u001b[0m\u001b[0m\n\u001b[0m\u001b[1;32m    907\u001b[0m \u001b[0;34m\u001b[0m\u001b[0m\n\u001b[1;32m    908\u001b[0m         \u001b[0;31m# We don't have a source here because tree sequence files don't have a\u001b[0m\u001b[0;34m\u001b[0m\u001b[0;34m\u001b[0m\u001b[0;34m\u001b[0m\u001b[0m\n",
      "\u001b[0;32m~/Documents/Research/BDI/tsinfer-hyanwong/tsinfer/inference.py\u001b[0m in \u001b[0;36minsert_sites\u001b[0;34m(self, tables)\u001b[0m\n\u001b[1;32m    663\u001b[0m                     tables.mutations.add_row(\n\u001b[1;32m    664\u001b[0m                         \u001b[0msite\u001b[0m\u001b[0;34m=\u001b[0m\u001b[0msite\u001b[0m\u001b[0;34m.\u001b[0m\u001b[0mid\u001b[0m\u001b[0;34m,\u001b[0m \u001b[0mnode\u001b[0m\u001b[0;34m=\u001b[0m\u001b[0mnode\u001b[0m\u001b[0;34m[\u001b[0m\u001b[0minferred_site\u001b[0m\u001b[0;34m]\u001b[0m\u001b[0;34m,\u001b[0m\u001b[0;34m\u001b[0m\u001b[0;34m\u001b[0m\u001b[0m\n\u001b[0;32m--> 665\u001b[0;31m                         derived_state=variant.alleles[derived_state[inferred_site]])\n\u001b[0m\u001b[1;32m    666\u001b[0m                     \u001b[0minferred_site\u001b[0m \u001b[0;34m+=\u001b[0m \u001b[0;36m1\u001b[0m\u001b[0;34m\u001b[0m\u001b[0;34m\u001b[0m\u001b[0m\n\u001b[1;32m    667\u001b[0m                 \u001b[0;32melse\u001b[0m\u001b[0;34m:\u001b[0m\u001b[0;34m\u001b[0m\u001b[0;34m\u001b[0m\u001b[0m\n",
      "\u001b[0;31mIndexError\u001b[0m: tuple index out of range"
     ]
    }
   ],
   "source": [
    "tsinfer.infer(sample_data, engine=\"P\")"
   ]
  },
  {
   "cell_type": "code",
   "execution_count": null,
   "metadata": {},
   "outputs": [],
   "source": []
  }
 ],
 "metadata": {
  "kernelspec": {
   "display_name": "Python 3",
   "language": "python",
   "name": "python3"
  },
  "language_info": {
   "codemirror_mode": {
    "name": "ipython",
    "version": 3
   },
   "file_extension": ".py",
   "mimetype": "text/x-python",
   "name": "python",
   "nbconvert_exporter": "python",
   "pygments_lexer": "ipython3",
   "version": "3.7.2"
  }
 },
 "nbformat": 4,
 "nbformat_minor": 2
}
