{
 "cells": [
  {
   "cell_type": "code",
   "execution_count": 1,
   "metadata": {},
   "outputs": [],
   "source": [
    "import msprime\n",
    "import tskit\n",
    "import itertools\n",
    "import random\n",
    "import math\n",
    "import numpy as np\n",
    "from IPython.display import display, SVG"
   ]
  },
  {
   "cell_type": "code",
   "execution_count": 2,
   "metadata": {},
   "outputs": [],
   "source": [
    "def truncate_ts_samples(ts, average_span, random_seed, min_span=5):\n",
    "    \"\"\"\n",
    "    Create a tree sequence that has sample nodes which have been truncated\n",
    "    so that they span only a small region of the genome. The length of the\n",
    "    truncated spans is given by a poisson distribution whose mean is average_span\n",
    "    but which cannot go below a fixed min_span, or above the sequence_length\n",
    "\n",
    "    Samples are truncated by removing the edges that connect them to the rest\n",
    "    of the tree.\n",
    "    \"\"\"\n",
    "    def keep_with_offset(keep, data, offset):\n",
    "       \"\"\"Copied from keep_intervals\"\"\"\n",
    "       # We need the astype here for 32 bit machines\n",
    "       lens = np.diff(offset).astype(np.int32)\n",
    "       return (data[np.repeat(keep, lens)],\n",
    "               np.concatenate([\n",
    "                   np.array([0], dtype=offset.dtype),\n",
    "                   np.cumsum(lens[keep], dtype=offset.dtype)]))\n",
    "    np.random.seed(random_seed)\n",
    "    # Make a list of (left,right) tuples giving the new limits of each sample\n",
    "    # Keyed by sample ID.\n",
    "    to_slice = {}\n",
    "    # for simplicity, we pick lengths from a poisson distribution of av 300 bp\n",
    "    for sample_id, span in zip(\n",
    "            ts.samples(), np.random.poisson(average_span, ts.num_samples)):\n",
    "        span = max(span, min_span)\n",
    "        span = min(span, ts.sequence_length)\n",
    "        start = np.random.uniform(0, ts.sequence_length-span)\n",
    "        to_slice[sample_id] = (start, start+span)\n",
    "\n",
    "    tables = ts.dump_tables()\n",
    "    tables.edges.clear()\n",
    "    for e in ts.tables.edges:\n",
    "        if e.child not in to_slice:\n",
    "            left, right = e.left, e.right\n",
    "        else:\n",
    "            if e.right <= to_slice[e.child][0] or e.left >= to_slice[e.child][1]:\n",
    "                continue  # this edge is outside the focal region\n",
    "            else:\n",
    "                left = max(e.left, to_slice[e.child][0])\n",
    "                right = min(e.right, to_slice[e.child][1])\n",
    "        tables.edges.add_row(left, right, e.parent, e.child)\n",
    "    # Remove mutations above isolated nodes\n",
    "    mutations = tables.mutations\n",
    "    keep_mutations = np.ones((mutations.num_rows,), dtype = bool)\n",
    "    positions = tables.sites.position[:]\n",
    "    for i, m in enumerate(mutations):\n",
    "        if m.node in to_slice:\n",
    "            if to_slice[m.node][0] <= positions[m.site] < to_slice[m.node][1]:\n",
    "                keep_mutations[i] = False\n",
    "    new_ds, new_ds_offset = keep_with_offset(\n",
    "        keep_mutations, mutations.derived_state, mutations.derived_state_offset)\n",
    "    new_md, new_md_offset = keep_with_offset(\n",
    "        keep_mutations, mutations.metadata, mutations.metadata_offset)\n",
    "    mutations_map = np.append(np.cumsum(keep_mutations) - 1, [-1])\n",
    "    mutations_map = mutations_map.astype(mutations.parent.dtype)\n",
    "    # parent -1 always maps to parent -1\n",
    "    tables.mutations.set_columns(\n",
    "        site=mutations.site[keep_mutations],\n",
    "        node=mutations.node[keep_mutations],\n",
    "        derived_state=new_ds,\n",
    "        derived_state_offset=new_ds_offset,\n",
    "        parent=mutations_map[mutations.parent[keep_mutations]],\n",
    "        metadata=new_md,\n",
    "        metadata_offset=new_md_offset)\n",
    "    return tables.tree_sequence()\n",
    "\n",
    "ts = msprime.simulate(10, Ne=1e2, length=400, recombination_rate=1e-4, mutation_rate=2e-4, random_seed=1)\n",
    "truncated_ts = truncate_ts_samples(ts, average_span=200, random_seed=123)"
   ]
  },
  {
   "cell_type": "code",
   "execution_count": null,
   "metadata": {},
   "outputs": [],
   "source": []
  },
  {
   "cell_type": "code",
   "execution_count": 12,
   "metadata": {},
   "outputs": [
    {
     "name": "stdout",
     "output_type": "stream",
     "text": [
      "100.0\n",
      "gtagtacccccccgggaacgtggaccattggattaagtagctggtcacgtttgagattgatgaaaaaggtcatgattacaacaagataacataggcccct\n",
      "gtaggcgccaacatagaccgtggttcattggattaagtagctggtgacgttggagattgatgaaaaaggtaatgattacaacaagagaacataggcctct\n",
      "gaagcagcccacatagaccgtggttcccagtattgagactatgggcgcgttggagactgaagaaaaaggtaacatgtagaacaagataacataggcctct\n",
      "gtagtaccccccaggtaacaggccccccagtattgagaccctgggcgcgacggagaatgagcgaaagggtaacgtgagcgacttagcacaatcgcattag\n",
      "gtagtaccccccagggagcagtgcccccagttttaagtagctgccgttggcggagaatgatgaaaaaggtaatgattacaacaagataacataggactcg\n",
      "gtaggcgccaacatagaccgtggttcattggattaagtagctggtgacgttggagattgatggaaaaggtaatgattagaacaagataacataggcctct\n",
      "gtagtaccccccagggagcagggcccccagtattgagactctgggcgcgttggaggttggtaaacaaggtaaggtgaccaacaagttaacataggactat\n",
      "gtaggcgccaacatagaccgtggttcattggattaagtagctggtgacgttggagattgatggaaaaggtaatgattagaacaagataacataggcctct\n"
     ]
    }
   ],
   "source": [
    "# Construct a tree sequence with integerized breakpoints\n",
    "length = 100\n",
    "recomb_map = msprime.RecombinationMap.uniform_map(length, rate=0.05, num_loci=length)\n",
    "ts = msprime.simulate(8, mutation_rate=0.1, recombination_map=recomb_map, random_seed=1)\n",
    "\n",
    "null_char = b\"\\0\"\n",
    "states = np.array(['a','t','g','c'], dtype='|S1')\n",
    "\n",
    "tables = ts.dump_tables()\n",
    "tables.sites.clear()\n",
    "tables.mutations.clear()\n",
    "variable_sites = itertools.groupby(ts.sites(), lambda x: math.floor(x.position))\n",
    "variant_pos, sites_at_vpos = next(variable_sites)\n",
    "\n",
    "for pos in range(length):\n",
    "  ancestral_state = random.choice(states)\n",
    "  site_id = tables.sites.add_row(pos, ancestral_state)\n",
    "  if variant_pos == pos:\n",
    "      # Order mutations by time\n",
    "      mutations = []\n",
    "      for site in sites_at_vpos:\n",
    "        mutations.extend(site.mutations)\n",
    "      mutations.sort(key = lambda x: ts.node(x.node).time, reverse=True)\n",
    "      for m in mutations:\n",
    "        # Assign mutations with null parents & derived_states (will be filled in later)\n",
    "        tables.mutations.add_row(site_id, m.node, derived_state=null_char, parent=tskit.NULL)\n",
    "      if pos != length - 1:\n",
    "        variant_pos, sites_at_vpos = next(variable_sites)\n",
    "\n",
    "# Assign parents\n",
    "tables.compute_mutation_parents()\n",
    "\n",
    "# Assign derived states (use an array of chars)\n",
    "ancestral_states = tables.sites.ancestral_state.view(dtype='|S1')\n",
    "mutation_derived_state = np.full(tables.mutations.num_rows, null_char, dtype='|S1')\n",
    "for i, m in enumerate(tables.mutations):\n",
    "    if m.parent == tskit.NULL:\n",
    "        prev_state = ancestral_states[m.site]\n",
    "    else:\n",
    "        prev_state = mutation_derived_state[m.parent]\n",
    "    # Pick a new state that is different from the old one\n",
    "    new_state = random.choice([s for s in states if s != prev_state])\n",
    "    mutation_derived_state[i] = new_state\n",
    "\n",
    "tables.mutations.derived_state = mutation_derived_state.view(tables.mutations.derived_state.dtype)\n",
    "\n",
    "finite_sites_ts = tables.tree_sequence()\n",
    "\n",
    "print(finite_sites_ts.sequence_length)\n",
    "\n",
    "# Try printing them out\n",
    "for h in finite_sites_ts.haplotypes():\n",
    "  print(h)"
   ]
  },
  {
   "cell_type": "code",
   "execution_count": 4,
   "metadata": {},
   "outputs": [
    {
     "ename": "NameError",
     "evalue": "name 'finite_sites_ts' is not defined",
     "output_type": "error",
     "traceback": [
      "\u001b[0;31m---------------------------------------------------------------------------\u001b[0m",
      "\u001b[0;31mNameError\u001b[0m                                 Traceback (most recent call last)",
      "\u001b[0;32m<ipython-input-4-01d3c653c673>\u001b[0m in \u001b[0;36m<module>\u001b[0;34m\u001b[0m\n\u001b[0;32m----> 1\u001b[0;31m \u001b[0mtruncated_ts\u001b[0m \u001b[0;34m=\u001b[0m \u001b[0mtruncate_ts_samples\u001b[0m\u001b[0;34m(\u001b[0m\u001b[0mfinite_sites_ts\u001b[0m\u001b[0;34m,\u001b[0m \u001b[0maverage_span\u001b[0m\u001b[0;34m=\u001b[0m\u001b[0;36m20\u001b[0m\u001b[0;34m,\u001b[0m \u001b[0mrandom_seed\u001b[0m\u001b[0;34m=\u001b[0m\u001b[0;36m123\u001b[0m\u001b[0;34m)\u001b[0m\u001b[0;34m\u001b[0m\u001b[0;34m\u001b[0m\u001b[0m\n\u001b[0m",
      "\u001b[0;31mNameError\u001b[0m: name 'finite_sites_ts' is not defined"
     ]
    }
   ],
   "source": [
    "truncated_ts = truncate_ts_samples(finite_sites_ts, average_span=20, random_seed=123)"
   ]
  },
  {
   "cell_type": "code",
   "execution_count": null,
   "metadata": {},
   "outputs": [],
   "source": []
  },
  {
   "cell_type": "code",
   "execution_count": null,
   "metadata": {},
   "outputs": [],
   "source": [
    "display(SVG(finite_sites_ts.draw_svg()))"
   ]
  },
  {
   "cell_type": "code",
   "execution_count": null,
   "metadata": {},
   "outputs": [],
   "source": [
    "def check_parents(ts):\n",
    "    for m in ts.tables.mutations:\n",
    "        if m.parent == tskit.NULL:\n",
    "            old_state = \"R\"\n",
    "        else:\n",
    "            old_state = ts.mutation(m.parent).derived_state\n",
    "        if old_state == m.derived_state:\n",
    "            print(old_state, m.derived_state)\n",
    "        \n",
    "check_parents(truncated_ts)"
   ]
  },
  {
   "cell_type": "code",
   "execution_count": null,
   "metadata": {},
   "outputs": [],
   "source": [
    "for h in truncated_ts.haplotypes():\n",
    "    print(h)"
   ]
  },
  {
   "cell_type": "code",
   "execution_count": null,
   "metadata": {},
   "outputs": [],
   "source": [
    "t = truncated_ts.dump_tables()\n",
    "print(truncated_ts.samples())\n",
    "print(truncated_ts.site(truncated_ts.num_sites-1))\n",
    "t.mutations.add_row(node = 0, site = t.sites.num_rows-1, derived_state=\"g\")\n",
    "truncated_ts2 = t.tree_sequence()"
   ]
  },
  {
   "cell_type": "code",
   "execution_count": null,
   "metadata": {},
   "outputs": [],
   "source": [
    "print(truncated_ts.genotype_matrix().T)\n",
    "for v in truncated_ts.variants():\n",
    "    print(v)"
   ]
  },
  {
   "cell_type": "code",
   "execution_count": null,
   "metadata": {},
   "outputs": [],
   "source": [
    "import msprime\n",
    "\n",
    "ts = msprime.simulate(4, random_seed=1)\n",
    "tables = ts.dump_tables()\n",
    "tables.sites.add_row(ancestral_state = \"a\", position = 0.2)\n",
    "tables.mutations.add_row(derived_state = \"b\", site = 0, node = 4)\n",
    "tables.mutations.add_row(derived_state = \"a\", site = 0, node = 0)\n",
    "\n",
    "print(tables.tree_sequence().genotype_matrix())\n",
    "\n",
    "tables.edges.clear()\n",
    "for e in ts.edges():\n",
    "    tables.edges.add_row(left=0.5 if e.child==0 else e.left, right=e.right, parent=e.parent, child=e.child)\n",
    "\n",
    "print(tables.tree_sequence().draw_text())\n",
    "print(tables.tree_sequence().genotype_matrix())\n",
    "\n"
   ]
  },
  {
   "cell_type": "code",
   "execution_count": null,
   "metadata": {},
   "outputs": [],
   "source": []
  },
  {
   "cell_type": "code",
   "execution_count": null,
   "metadata": {},
   "outputs": [],
   "source": []
  }
 ],
 "metadata": {
  "kernelspec": {
   "display_name": "Python 3",
   "language": "python",
   "name": "python3"
  },
  "language_info": {
   "codemirror_mode": {
    "name": "ipython",
    "version": 3
   },
   "file_extension": ".py",
   "mimetype": "text/x-python",
   "name": "python",
   "nbconvert_exporter": "python",
   "pygments_lexer": "ipython3",
   "version": "3.7.2"
  }
 },
 "nbformat": 4,
 "nbformat_minor": 2
}
